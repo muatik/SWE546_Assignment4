{
 "cells": [
  {
   "cell_type": "markdown",
   "metadata": {},
   "source": [
    "SWE 546 - assignment 4\n",
    "Mustafa Atik - 2015719018"
   ]
  },
  {
   "cell_type": "code",
   "execution_count": 408,
   "metadata": {
    "collapsed": true
   },
   "outputs": [],
   "source": [
    "import numpy as np\n",
    "import pandas as pd\n",
    "import matplotlib.pylab as plt\n",
    "import random\n",
    "import time\n",
    "\n",
    "%matplotlib inline"
   ]
  },
  {
   "cell_type": "code",
   "execution_count": 260,
   "metadata": {
    "collapsed": false
   },
   "outputs": [
    {
     "name": "stdout",
     "output_type": "stream",
     "text": [
      "6040\n",
      "3952\n",
      "5\n"
     ]
    }
   ],
   "source": [
    "rnames = ['user_id', 'movie_id', 'rating', \"timestamp\"]\n",
    "ratings = pd.read_table(\n",
    "    'ml-1m/ratings.dat', sep='::', header=None, names=rnames, engine='python')\n",
    "\n",
    "print ratings.user_id.max()\n",
    "print ratings.movie_id.max()\n",
    "print ratings.rating.max()"
   ]
  },
  {
   "cell_type": "code",
   "execution_count": 261,
   "metadata": {
    "collapsed": false
   },
   "outputs": [
    {
     "data": {
      "text/plain": [
       "matrix([[ 202,  318,    3],\n",
       "        [ 199, 2657,    3],\n",
       "        [2453,  300,    3],\n",
       "        [1449,  486,    1],\n",
       "        [1449, 1619,    3],\n",
       "        [3737, 3489,    3],\n",
       "        [5170, 2333,    4],\n",
       "        [4699,  158,    3],\n",
       "        [5716, 3471,    4],\n",
       "        [1282,  912,    3]])"
      ]
     },
     "execution_count": 261,
     "metadata": {},
     "output_type": "execute_result"
    }
   ],
   "source": [
    "ratings = np.hstack([\n",
    "        np.mat(ratings.user_id).T,\n",
    "        np.mat(ratings.movie_id).T,\n",
    "        np.mat(ratings.rating).T\n",
    "    ])\n",
    "np.random.shuffle(ratings)\n",
    "ratings[:10]"
   ]
  },
  {
   "cell_type": "code",
   "execution_count": 262,
   "metadata": {
    "collapsed": false
   },
   "outputs": [
    {
     "name": "stdout",
     "output_type": "stream",
     "text": [
      "6040\n",
      "3952\n"
     ]
    }
   ],
   "source": [
    "max_values = np.amax(ratings, axis=0)\n",
    "\n",
    "max_user = max_values[0,0]\n",
    "max_movie = max_values[0,1]\n",
    "print max_user\n",
    "print max_movie"
   ]
  },
  {
   "cell_type": "code",
   "execution_count": 431,
   "metadata": {
    "collapsed": true
   },
   "outputs": [],
   "source": [
    "class RecommenderBase(object):\n",
    "    # RATINGS = DOT PRODUCT OF U AND V\n",
    "    def __init__(self):\n",
    "        super(RecommenderBase, self).__init__()\n",
    "        \n",
    "    def train(self, ratings, dimentions=10):  \n",
    "        self.ratings = ratings\n",
    "        max_values = np.amax(ratings, axis=0)\n",
    "        max_user = max_values[0,0]\n",
    "        max_movie = max_values[0,1]\n",
    "        \n",
    "        self.U = np.mat(np.random.rand(max_user, dimentions))\n",
    "        self.V = np.mat(np.random.rand(dimentions, max_movie))\n",
    "        \n",
    "        self.R = np.zeros((max_user, max_movie))\n",
    "        self.mask = np.zeros((max_user, max_movie))\n",
    "        for i in ratings:\n",
    "            self.R[i[0, 0] - 1, i[0, 1] - 1] = i[0, 2]\n",
    "            self.mask[i[0, 0] - 1, i[0, 1] - 1] = 1\n",
    "        \n",
    "        self.learn()\n",
    "        \n",
    "    def getTotalError(self):\n",
    "        error = np.array(self.mask) * np.array(self.R - self.U * self.V)\n",
    "        return np.power(error, 2).sum() / self.mask.sum()\n",
    "    \n",
    "    def approximate(self, i, eta):\n",
    "        u_id = i[0, 0] - 1 \n",
    "        m_id = i[0, 1] - 1\n",
    "        r = i[0, 2]\n",
    "\n",
    "        u = self.U[u_id]\n",
    "        v = self.V[:,m_id]\n",
    "        prediction = u * v\n",
    "\n",
    "        error = float(r - prediction)\n",
    "        updated_u = u + eta * error * v.T\n",
    "        updated_v = v + eta * error * u.T\n",
    "\n",
    "        self.U[u_id] = updated_u\n",
    "        self.V[:,m_id] = updated_v\n",
    "    \n",
    "    def learn(self):\n",
    "        \"\"\"\n",
    "        must be implemented in subclasses\n",
    "        \"\"\"\n",
    "        raise NotImplemented()\n",
    "\n",
    "    def predict(self, user_id, movie_id):\n",
    "        return self.U[user_id] * self.V[:,movie_id]\n",
    "    \n",
    "    def recommend(self, user_id, length=5):\n",
    "        user_ratings = self.U[user_id] * self.V\n",
    "        should_watch = np.argsort(user_ratings)[:-length:-1]\n",
    "        for i in should_watch:\n",
    "            yield i, user_ratings[0, i]\n",
    "        \n",
    "class RecommenderSGD(RecommenderBase):\n",
    "    def learn(self, iteration=100000, eta=0.001):\n",
    "        errors = []\n",
    "        for t in range(iteration):\n",
    "            if t%20000==0:\n",
    "                error = self.getTotalError()\n",
    "                errors.append(error)\n",
    "                print \"error \", error\n",
    "                \n",
    "            # choosing a random user-movie-rating item\n",
    "            i = random.choice(self.ratings)\n",
    "            self.approximate(i, eta)\n",
    "        self.errors = errors\n",
    "        \n",
    "class RecommenderGradient(RecommenderBase):\n",
    "    \"\"\"\n",
    "    traverses all user-movie-rating items.\n",
    "    \"\"\"\n",
    "    def learn(self, iteration=6, eta=0.001):\n",
    "        errors = []\n",
    "        eta_i = eta\n",
    "        for t in range(iteration):\n",
    "            error = self.getTotalError()\n",
    "            errors.append(error)\n",
    "            print \"error \", error\n",
    "\n",
    "            for i in self.ratings:\n",
    "                #i = random.choice(self.ratings)\n",
    "                self.approximate(i, eta_i)\n",
    "            eta_i = eta * 1./ (t + 1)\n",
    "        self.errors = errors"
   ]
  },
  {
   "cell_type": "code",
   "execution_count": 433,
   "metadata": {
    "collapsed": false
   },
   "outputs": [
    {
     "name": "stdout",
     "output_type": "stream",
     "text": [
      "started RecommenderSGD\n",
      "error  3.01261860806\n",
      "error  2.77176413668\n",
      "error  2.5623608558\n",
      "error  2.46814890616\n",
      "error  2.40885245553\n",
      "error  2.36611904439\n",
      "done\n",
      "took 14.4871940613 seconds\n"
     ]
    },
    {
     "data": {
      "text/plain": [
       "[<matplotlib.lines.Line2D at 0x117a0c510>]"
      ]
     },
     "execution_count": 433,
     "metadata": {},
     "output_type": "execute_result"
    },
    {
     "data": {
      "image/png": "[encoded data removed]",
      "text/plain": [
       "<matplotlib.figure.Figure at 0x11890e0d0>"
      ]
     },
     "metadata": {},
     "output_type": "display_data"
    }
   ],
   "source": [
    "print \"started RecommenderSGD\"\n",
    "startTime = time.time()\n",
    "rg = RecommenderGradient()\n",
    "rg.train(ratings[:20000])\n",
    "endTime = time.time()\n",
    "print \"done\"\n",
    "print \"took {} seconds\".format(endTime - startTime)\n",
    "plt.plot(rg.errors)"
   ]
  },
  {
   "cell_type": "code",
   "execution_count": 419,
   "metadata": {
    "collapsed": false
   },
   "outputs": [
    {
     "name": "stdout",
     "output_type": "stream",
     "text": [
      "started RecommenderSGD\n",
      "error  2.92364456063\n",
      "error  2.68865621534\n",
      "error  2.48618546395\n",
      "error  2.31243049576\n",
      "error  2.15998156681\n",
      "done\n",
      "took 11.7424690723 seconds\n"
     ]
    },
    {
     "data": {
      "text/plain": [
       "[<matplotlib.lines.Line2D at 0x116405ed0>]"
      ]
     },
     "execution_count": 419,
     "metadata": {},
     "output_type": "execute_result"
    },
    {
     "data": {
      "image/png": "[encoded data removed]",
      "text/plain": [
       "<matplotlib.figure.Figure at 0x10bd0f6d0>"
      ]
     },
     "metadata": {},
     "output_type": "display_data"
    }
   ],
   "source": [
    "print \"started RecommenderSGD\"\n",
    "startTime = time.time()\n",
    "rs = RecommenderSGD()\n",
    "rs.train(ratings[:20000])\n",
    "endTime = time.time()\n",
    "print \"done\"\n",
    "print \"took {} seconds\".format(endTime - startTime)\n",
    "plt.plot(rs.errors)"
   ]
  },
  {
   "cell_type": "code",
   "execution_count": 438,
   "metadata": {
    "collapsed": false
   },
   "outputs": [
    {
     "name": "stdout",
     "output_type": "stream",
     "text": [
      "(1000209, 3)\n",
      "\n",
      "2453 [[1748 3856 1231 ...,  767  493 3540]] [[ 0.98006859  1.11519179  1.1176878  ...,  4.50553535  4.6207094\n",
      "   4.75675329]]\n",
      "-\n",
      "\n",
      "1449 [[ 390  241 1748 ..., 1224 3327 3540]] [[ 0.65223398  0.77820371  0.79316939 ...,  3.60726632  3.63947632\n",
      "   3.65597613]]\n",
      "-\n",
      "\n",
      "1449 [[ 390  241 1748 ..., 1224 3327 3540]] [[ 0.65223398  0.77820371  0.79316939 ...,  3.60726632  3.63947632\n",
      "   3.65597613]]\n",
      "-\n",
      "\n",
      "3737 [[ 510 1231 3329 ..., 1355 3930  560]] [[ 0.68627389  0.79602455  0.86127626 ...,  3.34033175  3.38465274\n",
      "   3.58010627]]\n",
      "-\n",
      "\n",
      "5170 [[3856 3329  795 ...,  916 3327   81]] [[ 0.9284452   0.94581281  0.94714043 ...,  3.85325689  3.86017749\n",
      "   4.01912436]]\n",
      "-\n",
      "\n",
      "4699 [[ 795 1748 3856 ...,  916  767 3540]] [[ 1.28028053  1.31487603  1.35770686 ...,  5.21044471  5.22750852\n",
      "   5.37099154]]\n",
      "-\n",
      "\n",
      "5716 [[3329 1748  390 ...,  560 2199  558]] [[ 0.75119636  0.7612062   0.78880729 ...,  3.44974483  3.45900901\n",
      "   3.54322513]]\n",
      "-\n",
      "\n",
      "1282 [[1748 3856 1231 ...,  916  767 3540]] [[ 1.2001469   1.31924974  1.37254547 ...,  5.1702693   5.23253444\n",
      "   5.43747611]]\n",
      "-\n",
      "\n",
      "4238 [[1567 1601  390 ...,  916 3327 1373]] [[ 1.19148566  1.20013912  1.20552117 ...,  5.26539655  5.26584531\n",
      "   5.29243588]]\n",
      "-\n",
      "\n",
      "1749 [[1567  795 2949 ..., 3780 1382  560]] [[ 1.2910957   1.51551356  1.55184092 ...,  5.50206975  5.54111565\n",
      "   5.69084136]]\n",
      "-\n",
      "\n",
      "516 [[3856 1748 1231 ..., 3169  558 3540]] [[ 0.99100634  1.03452957  1.08502879 ...,  4.55016166  4.55568931\n",
      "   4.7159684 ]]\n",
      "-\n",
      "\n",
      "639 [[1748 3856  390 ..., 3540 3327 2806]] [[ 0.92791527  0.93326286  0.93471096 ...,  4.62525172  4.65003994\n",
      "   4.6948836 ]]\n",
      "-\n",
      "\n",
      "3555 [[3856 3329 1567 ..., 3631 1659  684]] [[ 0.86689566  0.99337531  1.02451307 ...,  4.04229712  4.05065112\n",
      "   4.23613253]]\n",
      "-\n",
      "\n",
      "1352 [[1567 2949  241 ...,  980  916  767]] [[ 0.93247178  1.10456037  1.18846129 ...,  4.63478955  4.64838261\n",
      "   4.7026299 ]]\n",
      "-\n",
      "\n",
      "3693 [[1527  795 3084 ...,  916 1862  560]] [[ 0.78002695  0.81275208  0.84463888 ...,  4.22323631  4.2321253\n",
      "   4.30315057]]\n",
      "-\n",
      "\n",
      "3476 [[1567 2949 1601 ...,  684  259 2806]] [[ 0.4928629   0.52822498  0.53753249 ...,  2.96379117  3.00507238\n",
      "   3.0494836 ]]\n",
      "-\n",
      "\n",
      "3067 [[1601 1527  471 ..., 1127  916 3540]] [[ 0.74662425  0.79400336  0.84265851 ...,  3.92546065  4.04050377\n",
      "   4.13571297]]\n",
      "-\n",
      "\n",
      "1447 [[ 510 1734  795 ...,  166   81  560]] [[ 0.85848664  0.9102281   0.93091744 ...,  3.64851756  3.73757901\n",
      "   3.81608227]]\n",
      "-\n"
     ]
    }
   ],
   "source": [
    "print ratings.shape\n",
    "for i in ratings[2:20,]:\n",
    "    print\n",
    "    for m, r in rg.recommend(i[0,0]):\n",
    "        print i[0,0], m, r\n",
    "        print \"-\""
   ]
  },
  {
   "cell_type": "code",
   "execution_count": null,
   "metadata": {
    "collapsed": true
   },
   "outputs": [],
   "source": []
  }
 ],
 "metadata": {
  "kernelspec": {
   "display_name": "Python 2",
   "language": "python",
   "name": "python2"
  },
  "language_info": {
   "codemirror_mode": {
    "name": "ipython",
    "version": 2
   },
   "file_extension": ".py",
   "mimetype": "text/x-python",
   "name": "python",
   "nbconvert_exporter": "python",
   "pygments_lexer": "ipython2",
   "version": "2.7.10"
  }
 },
 "nbformat": 4,
 "nbformat_minor": 0
}
